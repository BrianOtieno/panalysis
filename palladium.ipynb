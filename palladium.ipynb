{
 "cells": [
  {
   "cell_type": "markdown",
   "id": "acute-eligibility",
   "metadata": {},
   "source": [
    "# Datababse Syncronization Script - Palladium \n",
    "#### About Script\n",
    "The script should do the following;\n",
    "- Get all the required DB names\n",
    "- Query all the table names in the database\n",
    "- Merge all the similar tables in the databases\n",
    "- Create a new database\n",
    "- dump all the merged tables into the new database. "
   ]
  },
  {
   "cell_type": "markdown",
   "id": "urban-trigger",
   "metadata": {},
   "source": [
    "#### Import Dependancies\n"
   ]
  },
  {
   "cell_type": "code",
   "execution_count": 1,
   "id": "academic-ceramic",
   "metadata": {},
   "outputs": [],
   "source": [
    "import pandas as pd \n",
    "import pymysql\n",
    "import mysql.connector \n",
    "from sqlalchemy import create_engine "
   ]
  },
  {
   "cell_type": "markdown",
   "id": "bacterial-deadline",
   "metadata": {},
   "source": [
    "#### Get Databases\n"
   ]
  },
  {
   "cell_type": "code",
   "execution_count": 3,
   "id": "naked-watershed",
   "metadata": {},
   "outputs": [
    {
     "name": "stdout",
     "output_type": "stream",
     "text": [
      "emrfix\n",
      "gucha_daily\n",
      "gucha_migrated\n",
      "openmrs\n",
      "performance_schema\n",
      "sys\n"
     ]
    }
   ],
   "source": [
    "host = \"localhost\"\n",
    "user = \"root\" \n",
    "password = \"P@55w0rd.\"\n",
    "auth_plugin = \"mysql_native_password\"\n",
    "\n",
    "condb = mysql.connector.connect(\n",
    "    host=host,\n",
    "    user=user,\n",
    "    password=password, \n",
    "    auth_plugin=auth_plugin\n",
    ")\n",
    "\n",
    "cursor = condb.cursor() \n",
    "cursor.execute(\"show databases\")\n",
    "\n",
    "databases = cursor.fetchall()\n",
    " \n",
    "databases = ' '.join(str(v) for v in databases)\n",
    "databases = \"\".join(filter(lambda x: x != \"(\", databases)) \n",
    "databases = \"\".join(filter(lambda x: x != \")\", databases)) \n",
    "databases = \"\".join(filter(lambda x: x != \",\", databases))\n",
    "databases = \"\".join(filter(lambda x: x != \"'\", databases)) \n",
    "\n",
    "databases = databases.split()\n",
    "excluded_databases = ['information_schema', 'dwapi', 'mysql', 'testdb']\n",
    "for database in databases:\n",
    "    if database not in excluded_databases: \n",
    "        print (database)"
   ]
  },
  {
   "cell_type": "markdown",
   "id": "increased-notice",
   "metadata": {},
   "source": [
    "#### Define Databases"
   ]
  },
  {
   "cell_type": "code",
   "execution_count": 42,
   "id": "coral-semiconductor",
   "metadata": {},
   "outputs": [],
   "source": [
    "db_one = \"gucha_daily\"\n",
    "db_two = \"gucha_migrated\""
   ]
  },
  {
   "cell_type": "markdown",
   "id": "understood-investigator",
   "metadata": {},
   "source": [
    "#### Get Tables in Databases To Be Merged"
   ]
  },
  {
   "cell_type": "markdown",
   "id": "monthly-speed",
   "metadata": {},
   "source": [
    "#####  Tables in Database 1"
   ]
  },
  {
   "cell_type": "code",
   "execution_count": 43,
   "id": "tight-exception",
   "metadata": {},
   "outputs": [
    {
     "name": "stdout",
     "output_type": "stream",
     "text": [
      "['active_list', 'active_list_allergy', 'active_list_problem', 'active_list_type', 'appframework_component_state', 'appframework_user_app', 'appointmentscheduling_appointment', 'appointmentscheduling_appointment_block', 'appointmentscheduling_appointment_request', 'appointmentscheduling_appointment_status_history', 'appointmentscheduling_appointment_type', 'appointmentscheduling_block_type_map', 'appointmentscheduling_time_slot', 'calculation_registration', 'care_setting', 'clob_datatype_storage', 'cohort', 'cohort_member', 'concept', 'concept_answer', 'concept_class', 'concept_complex', 'concept_datatype', 'concept_description', 'concept_map_type', 'concept_name', 'concept_name_tag', 'concept_name_tag_map', 'concept_numeric', 'concept_proposal', 'concept_proposal_tag_map', 'concept_reference_map', 'concept_reference_source', 'concept_reference_term', 'concept_reference_term_map', 'concept_set', 'concept_set_derived', 'concept_state_conversion', 'concept_stop_word', 'concept_word', 'dhisconnector_report_to_dataset', 'drug', 'drug_ingredient', 'drug_order', 'drug_reference_map', 'encounter', 'encounter_provider', 'encounter_role', 'encounter_type', 'expanded_cohort_definition', 'expanded_cohort_update_history', 'field', 'field_answer', 'field_type', 'form', 'form_field', 'form_resource', 'global_property', 'groovy_scripts', 'hl7_in_archive', 'hl7_in_error', 'hl7_in_queue', 'hl7_source', 'html5forms_form', 'html5forms_form_tag_mapping', 'html5forms_tag', 'htmlformentry_html_form', 'idgen_auto_generation_option', 'idgen_id_pool', 'idgen_identifier_source', 'idgen_log_entry', 'idgen_pooled_identifier', 'idgen_remote_source', 'idgen_reserved_identifier', 'idgen_seq_id_gen', 'il_message', 'il_message_backup', 'kenyaemr_aop_encounter_entry', 'kenyaemr_facilityreporting_data', 'kenyaemr_facilityreporting_dataset', 'kenyaemr_facilityreporting_indicator', 'kenyaemr_facilityreporting_report', 'kenyaemr_hiv_testing_client_trace', 'kenyaemr_hiv_testing_patient_contact', 'kenyaemr_order_entry_lab_manifest', 'kenyaemr_order_entry_lab_manifest_order', 'liquibasechangelog', 'liquibasechangeloglock', 'location', 'location_attribute', 'location_attribute_type', 'location_tag', 'location_tag_map', 'logic_rule_definition', 'logic_rule_token', 'logic_rule_token_tag', 'logic_token_registration', 'logic_token_registration_tag', 'metadatasharing_exported_package', 'metadatasharing_imported_item', 'metadatasharing_imported_package', 'muzima_archive_data', 'muzima_cohort_metadata', 'muzima_cohort_report_config', 'muzima_config', 'muzima_data_source', 'muzima_error_data', 'muzima_error_message', 'muzima_form', 'muzima_form_tag', 'muzima_form_tag_map', 'muzima_generated_report', 'muzima_notification_data', 'muzima_patient_report', 'muzima_queue_data', 'muzima_registration_data', 'muzima_setting', 'muzimaforms_form', 'muzimaforms_tag', 'muzimaforms_tag_map', 'muzimaregistration_registration_data', 'note', 'notification_alert', 'notification_alert_recipient', 'notification_template', 'obs', 'openconceptlab_item', 'openconceptlab_update', 'order_frequency', 'order_group', 'order_set', 'order_set_member', 'order_type', 'order_type_class_map', 'orders', 'patient', 'patient_identifier', 'patient_identifier_type', 'patient_program', 'patient_state', 'person', 'person_address', 'person_attribute', 'person_attribute_type', 'person_merge_log', 'person_name', 'privilege', 'program', 'program_workflow', 'program_workflow_state', 'provider', 'provider_attribute', 'provider_attribute_type', 'psmart_store', 'random_names', 'relationship', 'relationship_type', 'report_object', 'report_schema_xml', 'reporting_report_design', 'reporting_report_design_resource', 'reporting_report_processor', 'reporting_report_request', 'role', 'role_privilege', 'role_role', 'scheduler_task_config', 'scheduler_task_config_property', 'serialized_object', 'spreadsheetimport_template', 'spreadsheetimport_template_column', 'spreadsheetimport_template_column_column', 'spreadsheetimport_template_column_prespecified_value', 'spreadsheetimport_template_prespecified_value', 'test_order', 'uiframework_user_defined_page_view', 'user_property', 'user_role', 'users', 'visit', 'visit_attribute', 'visit_attribute_type', 'visit_type']\n"
     ]
    }
   ],
   "source": [
    "cursor = condb.cursor()  \n",
    "cursor.execute(\"use %s\" % db_one)\n",
    "cursor.execute(\"show tables\")\n",
    "\n",
    "db1_tables = cursor.fetchall()\n",
    " \n",
    "db1_tables = ' '.join(str(v) for v in db1_tables)\n",
    "db1_tables = \"\".join(filter(lambda x: x != \"(\", db1_tables)) \n",
    "db1_tables = \"\".join(filter(lambda x: x != \")\", db1_tables)) \n",
    "db1_tables = \"\".join(filter(lambda x: x != \",\", db1_tables))\n",
    "db1_tables = \"\".join(filter(lambda x: x != \"'\", db1_tables)) \n",
    "\n",
    "db1_tables = db1_tables.split()\n",
    "\n",
    "print(db1_tables)\n"
   ]
  },
  {
   "cell_type": "markdown",
   "id": "inclusive-swedish",
   "metadata": {},
   "source": [
    "#####  Tables in Database 2"
   ]
  },
  {
   "cell_type": "code",
   "execution_count": 44,
   "id": "macro-clothing",
   "metadata": {},
   "outputs": [
    {
     "name": "stdout",
     "output_type": "stream",
     "text": [
      "['active_list', 'active_list_allergy', 'active_list_problem', 'active_list_type', 'appframework_component_state', 'appframework_user_app', 'appointmentscheduling_appointment', 'appointmentscheduling_appointment_block', 'appointmentscheduling_appointment_request', 'appointmentscheduling_appointment_status_history', 'appointmentscheduling_appointment_type', 'appointmentscheduling_block_type_map', 'appointmentscheduling_time_slot', 'calculation_registration', 'care_setting', 'clob_datatype_storage', 'cohort', 'cohort_member', 'concept', 'concept_answer', 'concept_class', 'concept_complex', 'concept_datatype', 'concept_description', 'concept_map_type', 'concept_name', 'concept_name_tag', 'concept_name_tag_map', 'concept_numeric', 'concept_proposal', 'concept_proposal_tag_map', 'concept_reference_map', 'concept_reference_source', 'concept_reference_term', 'concept_reference_term_map', 'concept_set', 'concept_set_derived', 'concept_state_conversion', 'concept_stop_word', 'concept_word', 'dhisconnector_report_to_dataset', 'drug', 'drug_ingredient', 'drug_order', 'drug_reference_map', 'encounter', 'encounter_provider', 'encounter_role', 'encounter_type', 'expanded_cohort_definition', 'expanded_cohort_update_history', 'field', 'field_answer', 'field_type', 'form', 'form_field', 'form_resource', 'global_property', 'groovy_scripts', 'hl7_in_archive', 'hl7_in_error', 'hl7_in_queue', 'hl7_source', 'html5forms_form', 'html5forms_form_tag_mapping', 'html5forms_tag', 'htmlformentry_html_form', 'idgen_auto_generation_option', 'idgen_id_pool', 'idgen_identifier_source', 'idgen_log_entry', 'idgen_pooled_identifier', 'idgen_remote_source', 'idgen_reserved_identifier', 'idgen_seq_id_gen', 'il_message', 'il_message_archive', 'il_message_backup', 'il_message_error_queue', 'il_registration', 'kenyaemr_aop_encounter_entry', 'kenyaemr_facilityreporting_data', 'kenyaemr_facilityreporting_dataset', 'kenyaemr_facilityreporting_indicator', 'kenyaemr_facilityreporting_report', 'kenyaemr_hiv_testing_client_trace', 'kenyaemr_hiv_testing_patient_contact', 'kenyaemr_order_entry_lab_manifest', 'kenyaemr_order_entry_lab_manifest_order', 'liquibasechangelog', 'liquibasechangeloglock', 'location', 'location_attribute', 'location_attribute_type', 'location_tag', 'location_tag_map', 'logic_rule_definition', 'logic_rule_token', 'logic_rule_token_tag', 'logic_token_registration', 'logic_token_registration_tag', 'medic_archive_data', 'medic_data_source', 'medic_error_data', 'medic_error_message', 'medic_form', 'medic_notification_data', 'medic_queue_data', 'medic_registration_data', 'metadatasharing_exported_package', 'metadatasharing_imported_item', 'metadatasharing_imported_package', 'muzima_archive_data', 'muzima_cohort_metadata', 'muzima_cohort_report_config', 'muzima_config', 'muzima_data_source', 'muzima_error_data', 'muzima_error_message', 'muzima_form', 'muzima_form_tag', 'muzima_form_tag_map', 'muzima_generated_report', 'muzima_notification_data', 'muzima_patient_report', 'muzima_queue_data', 'muzima_registration_data', 'muzima_setting', 'muzimaforms_form', 'muzimaforms_tag', 'muzimaforms_tag_map', 'muzimaregistration_registration_data', 'note', 'notification_alert', 'notification_alert_recipient', 'notification_template', 'obs', 'openconceptlab_item', 'openconceptlab_update', 'order_frequency', 'order_group', 'order_set', 'order_set_member', 'order_type', 'order_type_class_map', 'orders', 'patient', 'patient_identifier', 'patient_identifier_type', 'patient_program', 'patient_state', 'person', 'person_address', 'person_attribute', 'person_attribute_type', 'person_merge_log', 'person_name', 'privilege', 'program', 'program_workflow', 'program_workflow_state', 'provider', 'provider_attribute', 'provider_attribute_type', 'psmart_store', 'random_names', 'relationship', 'relationship_type', 'report_object', 'report_schema_xml', 'reporting_report_design', 'reporting_report_design_resource', 'reporting_report_processor', 'reporting_report_request', 'role', 'role_privilege', 'role_role', 'scheduler_task_config', 'scheduler_task_config_property', 'serialized_object', 'spreadsheetimport_template', 'spreadsheetimport_template_column', 'spreadsheetimport_template_column_column', 'spreadsheetimport_template_column_prespecified_value', 'spreadsheetimport_template_prespecified_value', 'test_order', 'uiframework_user_defined_page_view', 'user_property', 'user_role', 'users', 'visit', 'visit_attribute', 'visit_attribute_type', 'visit_type']\n"
     ]
    }
   ],
   "source": [
    "cursor = condb.cursor() \n",
    "cursor.execute(\"use %s\" % db_two)\n",
    "cursor.execute(\"show tables\")\n",
    "\n",
    "db2_tables = cursor.fetchall()\n",
    " \n",
    "db2_tables = ' '.join(str(v) for v in db2_tables)\n",
    "db2_tables = \"\".join(filter(lambda x: x != \"(\", db2_tables)) \n",
    "db2_tables = \"\".join(filter(lambda x: x != \")\", db2_tables)) \n",
    "db2_tables = \"\".join(filter(lambda x: x != \",\", db2_tables))\n",
    "db2_tables = \"\".join(filter(lambda x: x != \"'\", db2_tables)) \n",
    "\n",
    "db2_tables = db2_tables.split()\n",
    "\n",
    "print(db2_tables)\n"
   ]
  },
  {
   "cell_type": "markdown",
   "id": "clear-proceeding",
   "metadata": {},
   "source": [
    "#### Tables Matched In Both Databases"
   ]
  },
  {
   "cell_type": "code",
   "execution_count": 45,
   "id": "miniature-timeline",
   "metadata": {},
   "outputs": [],
   "source": [
    " def matched_tables(a,b):\n",
    "    included_tables = []\n",
    "    for table in a:\n",
    "        if table in b:\n",
    "            included_tables.append(table.strip())\n",
    "    return included_tables\n"
   ]
  },
  {
   "cell_type": "code",
   "execution_count": 46,
   "id": "acoustic-declaration",
   "metadata": {},
   "outputs": [
    {
     "name": "stdout",
     "output_type": "stream",
     "text": [
      "['active_list', 'active_list_allergy', 'active_list_problem', 'active_list_type', 'appframework_component_state', 'appframework_user_app', 'appointmentscheduling_appointment', 'appointmentscheduling_appointment_block', 'appointmentscheduling_appointment_request', 'appointmentscheduling_appointment_status_history', 'appointmentscheduling_appointment_type', 'appointmentscheduling_block_type_map', 'appointmentscheduling_time_slot', 'calculation_registration', 'care_setting', 'clob_datatype_storage', 'cohort', 'cohort_member', 'concept', 'concept_answer', 'concept_class', 'concept_complex', 'concept_datatype', 'concept_description', 'concept_map_type', 'concept_name', 'concept_name_tag', 'concept_name_tag_map', 'concept_numeric', 'concept_proposal', 'concept_proposal_tag_map', 'concept_reference_map', 'concept_reference_source', 'concept_reference_term', 'concept_reference_term_map', 'concept_set', 'concept_set_derived', 'concept_state_conversion', 'concept_stop_word', 'concept_word', 'dhisconnector_report_to_dataset', 'drug', 'drug_ingredient', 'drug_order', 'drug_reference_map', 'encounter', 'encounter_provider', 'encounter_role', 'encounter_type', 'expanded_cohort_definition', 'expanded_cohort_update_history', 'field', 'field_answer', 'field_type', 'form', 'form_field', 'form_resource', 'global_property', 'groovy_scripts', 'hl7_in_archive', 'hl7_in_error', 'hl7_in_queue', 'hl7_source', 'html5forms_form', 'html5forms_form_tag_mapping', 'html5forms_tag', 'htmlformentry_html_form', 'idgen_auto_generation_option', 'idgen_id_pool', 'idgen_identifier_source', 'idgen_log_entry', 'idgen_pooled_identifier', 'idgen_remote_source', 'idgen_reserved_identifier', 'idgen_seq_id_gen', 'il_message', 'il_message_backup', 'kenyaemr_aop_encounter_entry', 'kenyaemr_facilityreporting_data', 'kenyaemr_facilityreporting_dataset', 'kenyaemr_facilityreporting_indicator', 'kenyaemr_facilityreporting_report', 'kenyaemr_hiv_testing_client_trace', 'kenyaemr_hiv_testing_patient_contact', 'kenyaemr_order_entry_lab_manifest', 'kenyaemr_order_entry_lab_manifest_order', 'liquibasechangelog', 'liquibasechangeloglock', 'location', 'location_attribute', 'location_attribute_type', 'location_tag', 'location_tag_map', 'logic_rule_definition', 'logic_rule_token', 'logic_rule_token_tag', 'logic_token_registration', 'logic_token_registration_tag', 'metadatasharing_exported_package', 'metadatasharing_imported_item', 'metadatasharing_imported_package', 'muzima_archive_data', 'muzima_cohort_metadata', 'muzima_cohort_report_config', 'muzima_config', 'muzima_data_source', 'muzima_error_data', 'muzima_error_message', 'muzima_form', 'muzima_form_tag', 'muzima_form_tag_map', 'muzima_generated_report', 'muzima_notification_data', 'muzima_patient_report', 'muzima_queue_data', 'muzima_registration_data', 'muzima_setting', 'muzimaforms_form', 'muzimaforms_tag', 'muzimaforms_tag_map', 'muzimaregistration_registration_data', 'note', 'notification_alert', 'notification_alert_recipient', 'notification_template', 'obs', 'openconceptlab_item', 'openconceptlab_update', 'order_frequency', 'order_group', 'order_set', 'order_set_member', 'order_type', 'order_type_class_map', 'orders', 'patient', 'patient_identifier', 'patient_identifier_type', 'patient_program', 'patient_state', 'person', 'person_address', 'person_attribute', 'person_attribute_type', 'person_merge_log', 'person_name', 'privilege', 'program', 'program_workflow', 'program_workflow_state', 'provider', 'provider_attribute', 'provider_attribute_type', 'psmart_store', 'random_names', 'relationship', 'relationship_type', 'report_object', 'report_schema_xml', 'reporting_report_design', 'reporting_report_design_resource', 'reporting_report_processor', 'reporting_report_request', 'role', 'role_privilege', 'role_role', 'scheduler_task_config', 'scheduler_task_config_property', 'serialized_object', 'spreadsheetimport_template', 'spreadsheetimport_template_column', 'spreadsheetimport_template_column_column', 'spreadsheetimport_template_column_prespecified_value', 'spreadsheetimport_template_prespecified_value', 'test_order', 'uiframework_user_defined_page_view', 'user_property', 'user_role', 'users', 'visit', 'visit_attribute', 'visit_attribute_type', 'visit_type']\n"
     ]
    }
   ],
   "source": [
    "inlcuded_tables = matched_tables(db1_tables, db2_tables)\n",
    "print(inlcuded_tables)"
   ]
  },
  {
   "cell_type": "markdown",
   "id": "romance-fever",
   "metadata": {},
   "source": [
    "##### Create Database For Merging"
   ]
  },
  {
   "cell_type": "code",
   "execution_count": 47,
   "id": "continent-intro",
   "metadata": {},
   "outputs": [
    {
     "name": "stdout",
     "output_type": "stream",
     "text": [
      "gucha_daily_and_gucha_migrated\n"
     ]
    }
   ],
   "source": [
    "# merge_sync =\"synced_db\"\n",
    "merge_sync = db_one + \"_and_\" + db_two\n",
    "cursor.execute(\"CREATE DATABASE IF NOT EXISTS %s;\" % merge_sync)\n",
    "print(merge_sync)"
   ]
  },
  {
   "cell_type": "markdown",
   "id": "arranged-factor",
   "metadata": {},
   "source": [
    "##### Define Connection For Commiting Tables to Database"
   ]
  },
  {
   "cell_type": "code",
   "execution_count": 48,
   "id": "interstate-juice",
   "metadata": {},
   "outputs": [],
   "source": [
    "mysql_connection = pymysql.connect(host='localhost',\n",
    "                    user='root',\n",
    "                    password='P@55w0rd.',\n",
    "                    db='merged',\n",
    "                    port = 3306,\n",
    "                    charset='utf8',\n",
    "                    cursorclass=pymysql.cursors.DictCursor)\n",
    "engine = create_engine(\"mysql+mysqldb://root:P@55w0rd.@localhost/%s\" % merge_sync)"
   ]
  },
  {
   "cell_type": "markdown",
   "id": "domestic-veteran",
   "metadata": {},
   "source": [
    "##### Query The Databeses, Merge Recursively and Commit To Database"
   ]
  },
  {
   "cell_type": "code",
   "execution_count": 50,
   "id": "registered-tiffany",
   "metadata": {},
   "outputs": [
    {
     "name": "stdout",
     "output_type": "stream",
     "text": [
      "1. active_list merged and committed to database successfully\n",
      "2. active_list_allergy merged and committed to database successfully\n",
      "3. active_list_problem merged and committed to database successfully\n",
      "4. active_list_type merged and committed to database successfully\n",
      "5. appframework_component_state merged and committed to database successfully\n",
      "6. appframework_user_app merged and committed to database successfully\n",
      "7. appointmentscheduling_appointment merged and committed to database successfully\n",
      "8. appointmentscheduling_appointment_block merged and committed to database successfully\n",
      "9. appointmentscheduling_appointment_request merged and committed to database successfully\n",
      "10. appointmentscheduling_appointment_status_history merged and committed to database successfully\n",
      "11. appointmentscheduling_appointment_type merged and committed to database successfully\n",
      "12. appointmentscheduling_block_type_map merged and committed to database successfully\n",
      "13. appointmentscheduling_time_slot merged and committed to database successfully\n",
      "14. calculation_registration merged and committed to database successfully\n",
      "15. care_setting merged and committed to database successfully\n",
      "16. clob_datatype_storage merged and committed to database successfully\n",
      "17. cohort merged and committed to database successfully\n",
      "18. cohort_member merged and committed to database successfully\n",
      "19. concept merged and committed to database successfully\n",
      "20. concept_answer merged and committed to database successfully\n",
      "21. concept_class merged and committed to database successfully\n",
      "22. concept_complex merged and committed to database successfully\n",
      "23. concept_datatype merged and committed to database successfully\n",
      "24. concept_description merged and committed to database successfully\n",
      "25. concept_map_type merged and committed to database successfully\n",
      "26. concept_name merged and committed to database successfully\n",
      "27. concept_name_tag merged and committed to database successfully\n",
      "28. concept_name_tag_map merged and committed to database successfully\n",
      "29. concept_numeric merged and committed to database successfully\n",
      "30. concept_proposal merged and committed to database successfully\n",
      "31. concept_proposal_tag_map merged and committed to database successfully\n",
      "32. concept_reference_map merged and committed to database successfully\n",
      "33. concept_reference_source merged and committed to database successfully\n",
      "34. concept_reference_term merged and committed to database successfully\n",
      "35. concept_reference_term_map merged and committed to database successfully\n",
      "36. concept_set merged and committed to database successfully\n",
      "37. concept_set_derived merged and committed to database successfully\n",
      "38. concept_state_conversion merged and committed to database successfully\n",
      "39. concept_stop_word merged and committed to database successfully\n",
      "40. concept_word merged and committed to database successfully\n",
      "41. dhisconnector_report_to_dataset merged and committed to database successfully\n",
      "42. drug merged and committed to database successfully\n",
      "43. drug_ingredient merged and committed to database successfully\n",
      "44. drug_order merged and committed to database successfully\n",
      "45. drug_reference_map merged and committed to database successfully\n",
      "46. encounter merged and committed to database successfully\n",
      "47. encounter_provider merged and committed to database successfully\n",
      "48. encounter_role merged and committed to database successfully\n",
      "49. encounter_type merged and committed to database successfully\n",
      "50. expanded_cohort_definition merged and committed to database successfully\n",
      "51. expanded_cohort_update_history merged and committed to database successfully\n",
      "52. field merged and committed to database successfully\n",
      "53. field_answer merged and committed to database successfully\n",
      "54. field_type merged and committed to database successfully\n",
      "55. form merged and committed to database successfully\n",
      "56. form_field merged and committed to database successfully\n",
      "57. form_resource merged and committed to database successfully\n",
      "58. global_property merged and committed to database successfully\n",
      "59. groovy_scripts merged and committed to database successfully\n",
      "60. hl7_in_archive merged and committed to database successfully\n",
      "61. hl7_in_error merged and committed to database successfully\n",
      "62. hl7_in_queue merged and committed to database successfully\n",
      "63. hl7_source merged and committed to database successfully\n",
      "64. html5forms_form merged and committed to database successfully\n",
      "65. html5forms_form_tag_mapping merged and committed to database successfully\n",
      "66. html5forms_tag merged and committed to database successfully\n",
      "67. htmlformentry_html_form merged and committed to database successfully\n",
      "68. idgen_auto_generation_option merged and committed to database successfully\n",
      "69. idgen_id_pool merged and committed to database successfully\n",
      "70. idgen_identifier_source merged and committed to database successfully\n",
      "71. idgen_log_entry merged and committed to database successfully\n",
      "72. idgen_pooled_identifier merged and committed to database successfully\n",
      "73. idgen_remote_source merged and committed to database successfully\n",
      "74. idgen_reserved_identifier merged and committed to database successfully\n",
      "75. idgen_seq_id_gen merged and committed to database successfully\n",
      "76. il_message merged and committed to database successfully\n",
      "77. il_message_backup merged and committed to database successfully\n",
      "78. kenyaemr_aop_encounter_entry merged and committed to database successfully\n",
      "79. kenyaemr_facilityreporting_data merged and committed to database successfully\n",
      "80. kenyaemr_facilityreporting_dataset merged and committed to database successfully\n",
      "81. kenyaemr_facilityreporting_indicator merged and committed to database successfully\n",
      "82. kenyaemr_facilityreporting_report merged and committed to database successfully\n",
      "83. kenyaemr_hiv_testing_client_trace merged and committed to database successfully\n",
      "84. kenyaemr_hiv_testing_patient_contact merged and committed to database successfully\n",
      "85. kenyaemr_order_entry_lab_manifest merged and committed to database successfully\n",
      "86. kenyaemr_order_entry_lab_manifest_order merged and committed to database successfully\n",
      "87. liquibasechangelog merged and committed to database successfully\n",
      "88. liquibasechangeloglock merged and committed to database successfully\n",
      "89. location merged and committed to database successfully\n",
      "90. location_attribute merged and committed to database successfully\n",
      "91. location_attribute_type merged and committed to database successfully\n",
      "92. location_tag merged and committed to database successfully\n",
      "93. location_tag_map merged and committed to database successfully\n",
      "94. logic_rule_definition merged and committed to database successfully\n",
      "95. logic_rule_token merged and committed to database successfully\n",
      "96. logic_rule_token_tag merged and committed to database successfully\n",
      "97. logic_token_registration merged and committed to database successfully\n",
      "98. logic_token_registration_tag merged and committed to database successfully\n",
      "99. metadatasharing_exported_package merged and committed to database successfully\n",
      "100. metadatasharing_imported_item merged and committed to database successfully\n",
      "101. metadatasharing_imported_package merged and committed to database successfully\n",
      "102. muzima_archive_data merged and committed to database successfully\n",
      "103. muzima_cohort_metadata merged and committed to database successfully\n",
      "104. muzima_cohort_report_config merged and committed to database successfully\n",
      "105. muzima_config merged and committed to database successfully\n",
      "106. muzima_data_source merged and committed to database successfully\n",
      "107. muzima_error_data merged and committed to database successfully\n",
      "108. muzima_error_message merged and committed to database successfully\n",
      "109. muzima_form merged and committed to database successfully\n",
      "110. muzima_form_tag merged and committed to database successfully\n",
      "111. muzima_form_tag_map merged and committed to database successfully\n",
      "112. muzima_generated_report merged and committed to database successfully\n",
      "113. muzima_notification_data merged and committed to database successfully\n",
      "114. muzima_patient_report merged and committed to database successfully\n",
      "115. muzima_queue_data merged and committed to database successfully\n",
      "116. muzima_registration_data merged and committed to database successfully\n",
      "117. muzima_setting merged and committed to database successfully\n",
      "118. muzimaforms_form merged and committed to database successfully\n",
      "119. muzimaforms_tag merged and committed to database successfully\n",
      "120. muzimaforms_tag_map merged and committed to database successfully\n",
      "121. muzimaregistration_registration_data merged and committed to database successfully\n",
      "122. note merged and committed to database successfully\n",
      "123. notification_alert merged and committed to database successfully\n",
      "124. notification_alert_recipient merged and committed to database successfully\n",
      "125. notification_template merged and committed to database successfully\n",
      "126. obs merged and committed to database successfully\n",
      "127. openconceptlab_item merged and committed to database successfully\n",
      "128. openconceptlab_update merged and committed to database successfully\n",
      "129. order_frequency merged and committed to database successfully\n",
      "130. order_group merged and committed to database successfully\n",
      "131. order_set merged and committed to database successfully\n",
      "132. order_set_member merged and committed to database successfully\n",
      "133. order_type merged and committed to database successfully\n",
      "134. order_type_class_map merged and committed to database successfully\n",
      "135. orders merged and committed to database successfully\n",
      "136. patient merged and committed to database successfully\n",
      "137. patient_identifier merged and committed to database successfully\n",
      "138. patient_identifier_type merged and committed to database successfully\n",
      "139. patient_program merged and committed to database successfully\n",
      "140. patient_state merged and committed to database successfully\n",
      "141. person merged and committed to database successfully\n",
      "142. person_address merged and committed to database successfully\n",
      "143. person_attribute merged and committed to database successfully\n",
      "144. person_attribute_type merged and committed to database successfully\n",
      "145. person_merge_log merged and committed to database successfully\n",
      "146. person_name merged and committed to database successfully\n",
      "147. privilege merged and committed to database successfully\n",
      "148. program merged and committed to database successfully\n",
      "149. program_workflow merged and committed to database successfully\n",
      "150. program_workflow_state merged and committed to database successfully\n",
      "151. provider merged and committed to database successfully\n",
      "152. provider_attribute merged and committed to database successfully\n",
      "153. provider_attribute_type merged and committed to database successfully\n",
      "154. psmart_store merged and committed to database successfully\n",
      "155. random_names merged and committed to database successfully\n",
      "156. relationship merged and committed to database successfully\n",
      "157. relationship_type merged and committed to database successfully\n",
      "158. report_object merged and committed to database successfully\n",
      "159. report_schema_xml merged and committed to database successfully\n",
      "160. reporting_report_design merged and committed to database successfully\n",
      "161. reporting_report_design_resource merged and committed to database successfully\n",
      "162. reporting_report_processor merged and committed to database successfully\n",
      "163. reporting_report_request merged and committed to database successfully\n",
      "164. role merged and committed to database successfully\n",
      "165. role_privilege merged and committed to database successfully\n",
      "166. role_role merged and committed to database successfully\n",
      "167. scheduler_task_config merged and committed to database successfully\n",
      "168. scheduler_task_config_property merged and committed to database successfully\n",
      "169. serialized_object merged and committed to database successfully\n",
      "170. spreadsheetimport_template merged and committed to database successfully\n",
      "171. spreadsheetimport_template_column merged and committed to database successfully\n",
      "172. spreadsheetimport_template_column_column merged and committed to database successfully\n",
      "173. spreadsheetimport_template_column_prespecified_value merged and committed to database successfully\n",
      "174. spreadsheetimport_template_prespecified_value merged and committed to database successfully\n",
      "175. test_order merged and committed to database successfully\n",
      "176. uiframework_user_defined_page_view merged and committed to database successfully\n",
      "177. user_property merged and committed to database successfully\n",
      "178. user_role merged and committed to database successfully\n",
      "179. users merged and committed to database successfully\n",
      "180. visit merged and committed to database successfully\n",
      "181. visit_attribute merged and committed to database successfully\n",
      "182. visit_attribute_type merged and committed to database successfully\n",
      "183. visit_type merged and committed to database successfully\n",
      "===> All matching databases merged and committed to database successfully! <===\n"
     ]
    }
   ],
   "source": [
    "cursor.execute(\"SET @@global.sql_mode= ''\")\n",
    "\n",
    "table_count = 1\n",
    "\n",
    "for table in inlcuded_tables:\n",
    "    df = pd.read_sql(f\"SELECT * FROM {db_one}.{table} UNION SELECT * FROM {db_two}.{table}\", condb)\n",
    "    df.to_sql(table, con=engine, if_exists='replace', index=False, chunksize=1000000)\n",
    "    print(str(table_count) + \". \" + table + \" merged and committed to database successfully\")\n",
    "    table_count += 1\n",
    "print(\"===> All matching databases merged and committed to database successfully! <===\")\n",
    " "
   ]
  },
  {
   "cell_type": "markdown",
   "id": "legislative-invention",
   "metadata": {},
   "source": [
    "#### Table in Database First Database But Not In Second Database"
   ]
  },
  {
   "cell_type": "code",
   "execution_count": 51,
   "id": "widespread-explorer",
   "metadata": {},
   "outputs": [],
   "source": [
    " def tables_only_in_a(a,b):\n",
    "    tables_only_in_db_one = []\n",
    "    for table in a:\n",
    "        if table not in b:\n",
    "            tables_only_in_db_one.append(table.strip())\n",
    "    return tables_only_in_db_one"
   ]
  },
  {
   "cell_type": "code",
   "execution_count": 52,
   "id": "raised-delaware",
   "metadata": {},
   "outputs": [
    {
     "name": "stdout",
     "output_type": "stream",
     "text": [
      "[]\n"
     ]
    }
   ],
   "source": [
    "tables_only_in_db_one = tables_only_in_a(db1_tables, db2_tables)\n",
    "print(tables_only_in_db_one)"
   ]
  },
  {
   "cell_type": "markdown",
   "id": "digital-celtic",
   "metadata": {},
   "source": [
    "#### Query and Commit Tables Only Present In DB One"
   ]
  },
  {
   "cell_type": "code",
   "execution_count": 53,
   "id": "cubic-registration",
   "metadata": {},
   "outputs": [
    {
     "name": "stdout",
     "output_type": "stream",
     "text": [
      "===> All tables in DB 1 and not in DB 2 committed to database successfully! <===\n"
     ]
    }
   ],
   "source": [
    "cursor.execute(\"SET @@global.sql_mode= ''\")\n",
    "\n",
    "table_count = 1\n",
    "\n",
    "for table in tables_only_in_db_one:\n",
    "    df = pd.read_sql(f\"SELECT * FROM {db_one}.{table}\", condb)\n",
    "    df.to_sql(table, con=engine, if_exists='replace', index=False, chunksize=1000000)\n",
    "    print(str(table_count) + \". \" + table + \" merged and committed to database successfully\")\n",
    "    table_count += 1\n",
    "print(\"===> All tables in DB 1 and not in DB 2 committed to database successfully! <===\")\n",
    " "
   ]
  },
  {
   "cell_type": "markdown",
   "id": "yellow-halifax",
   "metadata": {},
   "source": [
    "#### Table in Database First Database But Not In Second Database"
   ]
  },
  {
   "cell_type": "code",
   "execution_count": 54,
   "id": "controlled-adolescent",
   "metadata": {},
   "outputs": [],
   "source": [
    "def tables_only_in_b(a,b):\n",
    "    tables_only_in_db_two = []\n",
    "    for table in b:\n",
    "        if table not in a:\n",
    "            tables_only_in_db_two.append(table.strip())\n",
    "    return tables_only_in_db_two"
   ]
  },
  {
   "cell_type": "code",
   "execution_count": 55,
   "id": "sustained-analysis",
   "metadata": {},
   "outputs": [
    {
     "name": "stdout",
     "output_type": "stream",
     "text": [
      "['il_message_archive', 'il_message_error_queue', 'il_registration', 'medic_archive_data', 'medic_data_source', 'medic_error_data', 'medic_error_message', 'medic_form', 'medic_notification_data', 'medic_queue_data', 'medic_registration_data']\n"
     ]
    }
   ],
   "source": [
    "tables_only_in_db_two = tables_only_in_b(db1_tables, db2_tables)\n",
    "print(tables_only_in_db_two)"
   ]
  },
  {
   "cell_type": "markdown",
   "id": "satisfactory-chess",
   "metadata": {},
   "source": [
    "#### Query and Commit Tables Only Present In DB Two"
   ]
  },
  {
   "cell_type": "code",
   "execution_count": 56,
   "id": "addressed-drill",
   "metadata": {},
   "outputs": [
    {
     "name": "stdout",
     "output_type": "stream",
     "text": [
      "1. il_message_archive merged and committed to database successfully\n",
      "2. il_message_error_queue merged and committed to database successfully\n",
      "3. il_registration merged and committed to database successfully\n",
      "4. medic_archive_data merged and committed to database successfully\n",
      "5. medic_data_source merged and committed to database successfully\n",
      "6. medic_error_data merged and committed to database successfully\n",
      "7. medic_error_message merged and committed to database successfully\n",
      "8. medic_form merged and committed to database successfully\n",
      "9. medic_notification_data merged and committed to database successfully\n",
      "10. medic_queue_data merged and committed to database successfully\n",
      "11. medic_registration_data merged and committed to database successfully\n",
      "===> All tables in DB 2 and not in DB 1 committed to database successfully! <===\n"
     ]
    }
   ],
   "source": [
    "cursor.execute(\"SET @@global.sql_mode= ''\")\n",
    "\n",
    "table_count = 1\n",
    "\n",
    "for table in tables_only_in_db_two:\n",
    "    df = pd.read_sql(f\"SELECT * FROM {db_two}.{table}\", condb)\n",
    "    df.to_sql(table, con=engine, if_exists='replace', index=False, chunksize=1000000)\n",
    "    print(str(table_count) + \". \" + table + \" merged and committed to database successfully\")\n",
    "    table_count += 1\n",
    "print(\"===> All tables in DB 2 and not in DB 1 committed to database successfully! <===\")\n",
    " "
   ]
  },
  {
   "cell_type": "code",
   "execution_count": null,
   "id": "familiar-source",
   "metadata": {},
   "outputs": [],
   "source": []
  }
 ],
 "metadata": {
  "kernelspec": {
   "display_name": "Python 3",
   "language": "python",
   "name": "python3"
  },
  "language_info": {
   "codemirror_mode": {
    "name": "ipython",
    "version": 3
   },
   "file_extension": ".py",
   "mimetype": "text/x-python",
   "name": "python",
   "nbconvert_exporter": "python",
   "pygments_lexer": "ipython3",
   "version": "3.9.5"
  }
 },
 "nbformat": 4,
 "nbformat_minor": 5
}
